{
 "cells": [
  {
   "cell_type": "markdown",
   "metadata": {},
   "source": [
    "# Introduction to Docker\n",
    "\n",
    "**Learning Objectives**\n",
    "  * Build and run Docker containers\n",
    "  * Pull Docker images from Docker Hub and Google Container Registry\n",
    "  * Push Docker images to Google Container Registry"
   ]
  },
  {
   "cell_type": "markdown",
   "metadata": {},
   "source": [
    "## Overview\n",
    "\n",
    "Docker is an open platform for developing, shipping, and running applications. With Docker, you can separate your applications from your infrastructure and treat your infrastructure like a managed application. Docker helps you ship code faster, test faster, deploy faster, and shorten the cycle between writing code and running code.\n",
    "\n",
    "Docker does this by combining kernel containerization features with workflows and tooling that helps you manage and deploy your applications.\n",
    "\n",
    "Docker containers can be directly used in Kubernetes, which allows them to be run in the Kubernetes Engine with ease. After learning the essentials of Docker, you will have the skillset to start developing Kubernetes and containerized applications."
   ]
  },
  {
   "cell_type": "markdown",
   "metadata": {},
   "source": [
    "## Basic Docker commands"
   ]
  },
  {
   "cell_type": "markdown",
   "metadata": {},
   "source": [
    "See what docker images you have. "
   ]
  },
  {
   "cell_type": "code",
   "execution_count": 1,
   "metadata": {},
   "outputs": [
    {
     "name": "stdout",
     "output_type": "stream",
     "text": [
      "REPOSITORY                     TAG       IMAGE ID       CREATED         SIZE\n",
      "gcr.io/inverting-proxy/agent   <none>    fe507176d0e6   13 months ago   1.73GB\n"
     ]
    }
   ],
   "source": [
    "!docker images"
   ]
  },
  {
   "cell_type": "markdown",
   "metadata": {},
   "source": [
    "If this is the first time working with docker you won't have any repositories listed. \n",
    "\n",
    "**Note**. If you are running this in an AI Notebook, then you should see a single image `gcr.io/inverting-proxy/agent`. This is the container that is currently running the AI Notebook. \n",
    "\n",
    "Let's use `docker run` to pull a docker image called `hello-world` from the public registry. The docker daemon will search for the `hello-world` image, if it doesn't find the image locally, it pulls the image from a public registry called Docker Hub, creates a container from that image, and runs the container for you."
   ]
  },
  {
   "cell_type": "code",
   "execution_count": 2,
   "metadata": {},
   "outputs": [
    {
     "name": "stdout",
     "output_type": "stream",
     "text": [
      "Unable to find image 'hello-world:latest' locally\n",
      "latest: Pulling from library/hello-world\n",
      "\n",
      "\u001b[1BDigest: sha256:bfea6278a0a267fad2634554f4f0c6f31981eea41c553fdf5a83e95a41d40c38\n",
      "Status: Downloaded newer image for hello-world:latest\n",
      "\n",
      "Hello from Docker!\n",
      "This message shows that your installation appears to be working correctly.\n",
      "\n",
      "To generate this message, Docker took the following steps:\n",
      " 1. The Docker client contacted the Docker daemon.\n",
      " 2. The Docker daemon pulled the \"hello-world\" image from the Docker Hub.\n",
      "    (amd64)\n",
      " 3. The Docker daemon created a new container from that image which runs the\n",
      "    executable that produces the output you are currently reading.\n",
      " 4. The Docker daemon streamed that output to the Docker client, which sent it\n",
      "    to your terminal.\n",
      "\n",
      "To try something more ambitious, you can run an Ubuntu container with:\n",
      " $ docker run -it ubuntu bash\n",
      "\n",
      "Share images, automate workflows, and more with a free Docker ID:\n",
      " https://hub.docker.com/\n",
      "\n",
      "For more examples and ideas, visit:\n",
      " https://docs.docker.com/get-started/\n",
      "\n"
     ]
    }
   ],
   "source": [
    "!docker run hello-world"
   ]
  },
  {
   "cell_type": "markdown",
   "metadata": {},
   "source": [
    "Now when we look at our docker images we should see `hello-world` there as well."
   ]
  },
  {
   "cell_type": "code",
   "execution_count": 3,
   "metadata": {},
   "outputs": [
    {
     "name": "stdout",
     "output_type": "stream",
     "text": [
      "REPOSITORY                     TAG       IMAGE ID       CREATED         SIZE\n",
      "hello-world                    latest    feb5d9fea6a5   6 months ago    13.3kB\n",
      "gcr.io/inverting-proxy/agent   <none>    fe507176d0e6   13 months ago   1.73GB\n"
     ]
    }
   ],
   "source": [
    "!docker images"
   ]
  },
  {
   "cell_type": "markdown",
   "metadata": {},
   "source": [
    "This is the image pulled from the Docker Hub public registry. The Image ID is in `SHA256` hash format—this field specifies the Docker image that's been provisioned. When the docker daemon can't find an image locally, it will by default search the public registry for the image. Let's run the container again:"
   ]
  },
  {
   "cell_type": "markdown",
   "metadata": {},
   "source": [
    "Now, if we want to run `docker run hello-world` again, it won't have to download from the container registry."
   ]
  },
  {
   "cell_type": "markdown",
   "metadata": {},
   "source": [
    "To see all docker containers running, use `docker ps`."
   ]
  },
  {
   "cell_type": "code",
   "execution_count": 4,
   "metadata": {},
   "outputs": [
    {
     "name": "stdout",
     "output_type": "stream",
     "text": [
      "CONTAINER ID   IMAGE                          COMMAND                  CREATED          STATUS          PORTS     NAMES\n",
      "cc9930dc7af4   gcr.io/inverting-proxy/agent   \"/bin/sh -c '/opt/bi…\"   12 minutes ago   Up 10 minutes             proxy-agent\n"
     ]
    }
   ],
   "source": [
    "!docker ps"
   ]
  },
  {
   "cell_type": "markdown",
   "metadata": {},
   "source": [
    "There are no running containers. **Note. If you are running this in at AI Notebook, you'll see one container running.**\n",
    "\n",
    "The `hello-world` containers you ran previously already exited. In order to see all containers, including ones that have finished executing, run docker `ps -a`:"
   ]
  },
  {
   "cell_type": "code",
   "execution_count": 5,
   "metadata": {},
   "outputs": [
    {
     "name": "stdout",
     "output_type": "stream",
     "text": [
      "CONTAINER ID   IMAGE                          COMMAND                  CREATED          STATUS                      PORTS     NAMES\n",
      "74f7760c502c   hello-world                    \"/hello\"                 23 seconds ago   Exited (0) 22 seconds ago             awesome_morse\n",
      "cc9930dc7af4   gcr.io/inverting-proxy/agent   \"/bin/sh -c '/opt/bi…\"   12 minutes ago   Up 10 minutes                         proxy-agent\n"
     ]
    }
   ],
   "source": [
    "!docker ps -a"
   ]
  },
  {
   "cell_type": "markdown",
   "metadata": {},
   "source": [
    "This shows you the Container ID, a UUID generated by Docker to identify the container, and more metadata about the run. The container Names are also randomly generated but can be specified with docker run --name [container-name] hello-world."
   ]
  },
  {
   "cell_type": "markdown",
   "metadata": {},
   "source": [
    "## Build a Docker container"
   ]
  },
  {
   "cell_type": "markdown",
   "metadata": {},
   "source": [
    "Let's build a Docker image that's based on a simple node application."
   ]
  },
  {
   "cell_type": "markdown",
   "metadata": {},
   "source": [
    "**Exercise**\n",
    "\n",
    "Open the text file called `intro.docker` in the `dockerfiles` folder and complete the TODO there. "
   ]
  },
  {
   "cell_type": "markdown",
   "metadata": {},
   "source": [
    "Your dockerfile should have the following steps\n",
    "\n",
    " 1. use `FROM` to inherit an official Node runtime as the parent image; e.g. node:6\n",
    " 2. use `WORKDIR` to seet the working directory to /app\n",
    " 3. use `ADD` to copy the current directory to the container at /app\n",
    " 4. use `EXPOSE` to make the containers port 80 available to the outside world\n",
    " 5. use `CMD` to run the command `node ./src/app.js`"
   ]
  },
  {
   "cell_type": "markdown",
   "metadata": {},
   "source": [
    "This file instructs the Docker daemon on how to build your image.\n",
    "\n",
    "The initial line specifies the base parent image, which in this case is the official Docker image for node version 6.\n",
    "In the second, we set the working (current) directory of the container.\n",
    "In the third, we add the current directory's contents (indicated by the \".\" ) into the container.\n",
    "Then we expose the container's port so it can accept connections on that port and finally run the node command to start the application.\n",
    "\n",
    "Check out the other [Docker command references](https://docs.docker.com/engine/reference/builder/#known-issues-run) to understand what each line does."
   ]
  },
  {
   "cell_type": "markdown",
   "metadata": {},
   "source": [
    "We're going to use this Docker container to run a simple node.js app. Have a look at `app.js`. This is a simple HTTP server that listens on port 80 and returns \"Hello World.\"\n"
   ]
  },
  {
   "cell_type": "markdown",
   "metadata": {},
   "source": [
    "Now let's build the image. Note again the \"`.`\", which means current directory so you need to run this command from within the directory that has the Dockerfile.\n",
    "\n",
    "The `-t` is to name and tag an image with the `name:tag` syntax. The name of the image is `node-app` and the tag is `0.1`. The tag is highly recommended when building Docker images. If you don't specify a tag, the tag will default to latest and it becomes more difficult to distinguish newer images from older ones. Also notice how each line in the Dockerfile above results in intermediate container layers as the image is built."
   ]
  },
  {
   "cell_type": "markdown",
   "metadata": {},
   "source": [
    "**Exercise**\n",
    "\n",
    "Use `docker build` to build the docker image at `dockerfiles/intro.docker`. Tag the image `node-app:0.1`. "
   ]
  },
  {
   "cell_type": "code",
   "execution_count": 13,
   "metadata": {},
   "outputs": [
    {
     "name": "stdout",
     "output_type": "stream",
     "text": [
      "Sending build context to Docker daemon  124.4kB\n",
      "Step 1/5 : FROM node:6\n",
      " ---> ab290b853066\n",
      "Step 2/5 : WORKDIR /app\n",
      " ---> Using cache\n",
      " ---> 8944fe56d3aa\n",
      "Step 3/5 : COPY ./src/ /app\n",
      " ---> fe5c276c5549\n",
      "Step 4/5 : EXPOSE 80\n",
      " ---> Running in 65585724ac4c\n",
      "Removing intermediate container 65585724ac4c\n",
      " ---> d5ef84935c98\n",
      "Step 5/5 : CMD [\"node\", \"app.js\"]\n",
      " ---> Running in 2a689e03ca31\n",
      "Removing intermediate container 2a689e03ca31\n",
      " ---> 81eb2923eadb\n",
      "Successfully built 81eb2923eadb\n",
      "Successfully tagged node-app:0.1\n"
     ]
    }
   ],
   "source": [
    "%%bash\n",
    "docker build -t node-app:0.1 ./  -f ./dockerfiles/intro.docker"
   ]
  },
  {
   "cell_type": "markdown",
   "metadata": {},
   "source": [
    "Let's check that the image has been created correctly. "
   ]
  },
  {
   "cell_type": "code",
   "execution_count": 9,
   "metadata": {},
   "outputs": [
    {
     "name": "stdout",
     "output_type": "stream",
     "text": [
      "REPOSITORY                     TAG       IMAGE ID       CREATED          SIZE\n",
      "node-app                       0.1       13fc570556c6   38 seconds ago   884MB\n",
      "hello-world                    latest    feb5d9fea6a5   6 months ago     13.3kB\n",
      "gcr.io/inverting-proxy/agent   <none>    fe507176d0e6   13 months ago    1.73GB\n",
      "node                           6         ab290b853066   2 years ago      884MB\n"
     ]
    }
   ],
   "source": [
    "!docker images"
   ]
  },
  {
   "cell_type": "markdown",
   "metadata": {},
   "source": [
    "You should see a `node-app` repository that was created only seconds ago. \n",
    "\n",
    "Notice `node` is the base image and `node-app` is the image you built. You can't remove `node` without removing `node-app` first. The size of the image is relatively small compared to VMs. Other versions of the node image such as `node:slim` and `node:alpine` can give you even smaller images for easier portability. The topic of slimming down container sizes is further explored in Advanced Topics. You can view all versions in the official repository here.\n",
    "\n",
    "Note, you can remove an image from your docker images using `docker rmi [repository]:[tag]`."
   ]
  },
  {
   "cell_type": "markdown",
   "metadata": {},
   "source": [
    "## Run a Docker container\n",
    "\n",
    "Now we'll run the container based on the image you built above using the `docker run` command. The `--name` flag allows you to name the container if you like. And `-p` instructs Docker to map the host's port 4000 to the container's port 80. This allows you to reach the server at http://localhost:4000. Without port mapping, you would not be able to reach the container at localhost."
   ]
  },
  {
   "cell_type": "code",
   "execution_count": 10,
   "metadata": {},
   "outputs": [
    {
     "name": "stdout",
     "output_type": "stream",
     "text": [
      "CONTAINER ID   IMAGE                          COMMAND                  CREATED          STATUS                      PORTS     NAMES\n",
      "74f7760c502c   hello-world                    \"/hello\"                 14 minutes ago   Exited (0) 13 minutes ago             awesome_morse\n",
      "cc9930dc7af4   gcr.io/inverting-proxy/agent   \"/bin/sh -c '/opt/bi…\"   26 minutes ago   Up 24 minutes                         proxy-agent\n"
     ]
    }
   ],
   "source": [
    "!docker ps -a"
   ]
  },
  {
   "cell_type": "markdown",
   "metadata": {},
   "source": [
    "**Exercise**\n",
    "\n",
    "Use `docker run` to run the container you just build called `node-app:0.1`. Assign the host port `4000` to port `80` and assign it the name `my-app`."
   ]
  },
  {
   "cell_type": "code",
   "execution_count": 15,
   "metadata": {},
   "outputs": [
    {
     "name": "stdout",
     "output_type": "stream",
     "text": [
      "Server running at http://0.0.0.0:80/\n"
     ]
    },
    {
     "ename": "CalledProcessError",
     "evalue": "Command 'b'docker run -p 4000:80 --name my-app node-app:0.1\\n'' returned non-zero exit status 137.",
     "output_type": "error",
     "traceback": [
      "\u001b[0;31m---------------------------------------------------------------------------\u001b[0m",
      "\u001b[0;31mCalledProcessError\u001b[0m                        Traceback (most recent call last)",
      "\u001b[0;32m/tmp/ipykernel_11983/1905290259.py\u001b[0m in \u001b[0;36m<module>\u001b[0;34m\u001b[0m\n\u001b[0;32m----> 1\u001b[0;31m \u001b[0mget_ipython\u001b[0m\u001b[0;34m(\u001b[0m\u001b[0;34m)\u001b[0m\u001b[0;34m.\u001b[0m\u001b[0mrun_cell_magic\u001b[0m\u001b[0;34m(\u001b[0m\u001b[0;34m'bash'\u001b[0m\u001b[0;34m,\u001b[0m \u001b[0;34m''\u001b[0m\u001b[0;34m,\u001b[0m \u001b[0;34m'docker run -p 4000:80 --name my-app node-app:0.1\\n'\u001b[0m\u001b[0;34m)\u001b[0m\u001b[0;34m\u001b[0m\u001b[0;34m\u001b[0m\u001b[0m\n\u001b[0m",
      "\u001b[0;32m/opt/conda/lib/python3.7/site-packages/IPython/core/interactiveshell.py\u001b[0m in \u001b[0;36mrun_cell_magic\u001b[0;34m(self, magic_name, line, cell)\u001b[0m\n\u001b[1;32m   2460\u001b[0m             \u001b[0;32mwith\u001b[0m \u001b[0mself\u001b[0m\u001b[0;34m.\u001b[0m\u001b[0mbuiltin_trap\u001b[0m\u001b[0;34m:\u001b[0m\u001b[0;34m\u001b[0m\u001b[0;34m\u001b[0m\u001b[0m\n\u001b[1;32m   2461\u001b[0m                 \u001b[0margs\u001b[0m \u001b[0;34m=\u001b[0m \u001b[0;34m(\u001b[0m\u001b[0mmagic_arg_s\u001b[0m\u001b[0;34m,\u001b[0m \u001b[0mcell\u001b[0m\u001b[0;34m)\u001b[0m\u001b[0;34m\u001b[0m\u001b[0;34m\u001b[0m\u001b[0m\n\u001b[0;32m-> 2462\u001b[0;31m                 \u001b[0mresult\u001b[0m \u001b[0;34m=\u001b[0m \u001b[0mfn\u001b[0m\u001b[0;34m(\u001b[0m\u001b[0;34m*\u001b[0m\u001b[0margs\u001b[0m\u001b[0;34m,\u001b[0m \u001b[0;34m**\u001b[0m\u001b[0mkwargs\u001b[0m\u001b[0;34m)\u001b[0m\u001b[0;34m\u001b[0m\u001b[0;34m\u001b[0m\u001b[0m\n\u001b[0m\u001b[1;32m   2463\u001b[0m             \u001b[0;32mreturn\u001b[0m \u001b[0mresult\u001b[0m\u001b[0;34m\u001b[0m\u001b[0;34m\u001b[0m\u001b[0m\n\u001b[1;32m   2464\u001b[0m \u001b[0;34m\u001b[0m\u001b[0m\n",
      "\u001b[0;32m/opt/conda/lib/python3.7/site-packages/IPython/core/magics/script.py\u001b[0m in \u001b[0;36mnamed_script_magic\u001b[0;34m(line, cell)\u001b[0m\n\u001b[1;32m    140\u001b[0m             \u001b[0;32melse\u001b[0m\u001b[0;34m:\u001b[0m\u001b[0;34m\u001b[0m\u001b[0;34m\u001b[0m\u001b[0m\n\u001b[1;32m    141\u001b[0m                 \u001b[0mline\u001b[0m \u001b[0;34m=\u001b[0m \u001b[0mscript\u001b[0m\u001b[0;34m\u001b[0m\u001b[0;34m\u001b[0m\u001b[0m\n\u001b[0;32m--> 142\u001b[0;31m             \u001b[0;32mreturn\u001b[0m \u001b[0mself\u001b[0m\u001b[0;34m.\u001b[0m\u001b[0mshebang\u001b[0m\u001b[0;34m(\u001b[0m\u001b[0mline\u001b[0m\u001b[0;34m,\u001b[0m \u001b[0mcell\u001b[0m\u001b[0;34m)\u001b[0m\u001b[0;34m\u001b[0m\u001b[0;34m\u001b[0m\u001b[0m\n\u001b[0m\u001b[1;32m    143\u001b[0m \u001b[0;34m\u001b[0m\u001b[0m\n\u001b[1;32m    144\u001b[0m         \u001b[0;31m# write a basic docstring:\u001b[0m\u001b[0;34m\u001b[0m\u001b[0;34m\u001b[0m\u001b[0;34m\u001b[0m\u001b[0m\n",
      "\u001b[0;32m/opt/conda/lib/python3.7/site-packages/decorator.py\u001b[0m in \u001b[0;36mfun\u001b[0;34m(*args, **kw)\u001b[0m\n\u001b[1;32m    230\u001b[0m             \u001b[0;32mif\u001b[0m \u001b[0;32mnot\u001b[0m \u001b[0mkwsyntax\u001b[0m\u001b[0;34m:\u001b[0m\u001b[0;34m\u001b[0m\u001b[0;34m\u001b[0m\u001b[0m\n\u001b[1;32m    231\u001b[0m                 \u001b[0margs\u001b[0m\u001b[0;34m,\u001b[0m \u001b[0mkw\u001b[0m \u001b[0;34m=\u001b[0m \u001b[0mfix\u001b[0m\u001b[0;34m(\u001b[0m\u001b[0margs\u001b[0m\u001b[0;34m,\u001b[0m \u001b[0mkw\u001b[0m\u001b[0;34m,\u001b[0m \u001b[0msig\u001b[0m\u001b[0;34m)\u001b[0m\u001b[0;34m\u001b[0m\u001b[0;34m\u001b[0m\u001b[0m\n\u001b[0;32m--> 232\u001b[0;31m             \u001b[0;32mreturn\u001b[0m \u001b[0mcaller\u001b[0m\u001b[0;34m(\u001b[0m\u001b[0mfunc\u001b[0m\u001b[0;34m,\u001b[0m \u001b[0;34m*\u001b[0m\u001b[0;34m(\u001b[0m\u001b[0mextras\u001b[0m \u001b[0;34m+\u001b[0m \u001b[0margs\u001b[0m\u001b[0;34m)\u001b[0m\u001b[0;34m,\u001b[0m \u001b[0;34m**\u001b[0m\u001b[0mkw\u001b[0m\u001b[0;34m)\u001b[0m\u001b[0;34m\u001b[0m\u001b[0;34m\u001b[0m\u001b[0m\n\u001b[0m\u001b[1;32m    233\u001b[0m     \u001b[0mfun\u001b[0m\u001b[0;34m.\u001b[0m\u001b[0m__name__\u001b[0m \u001b[0;34m=\u001b[0m \u001b[0mfunc\u001b[0m\u001b[0;34m.\u001b[0m\u001b[0m__name__\u001b[0m\u001b[0;34m\u001b[0m\u001b[0;34m\u001b[0m\u001b[0m\n\u001b[1;32m    234\u001b[0m     \u001b[0mfun\u001b[0m\u001b[0;34m.\u001b[0m\u001b[0m__doc__\u001b[0m \u001b[0;34m=\u001b[0m \u001b[0mfunc\u001b[0m\u001b[0;34m.\u001b[0m\u001b[0m__doc__\u001b[0m\u001b[0;34m\u001b[0m\u001b[0;34m\u001b[0m\u001b[0m\n",
      "\u001b[0;32m/opt/conda/lib/python3.7/site-packages/IPython/core/magic.py\u001b[0m in \u001b[0;36m<lambda>\u001b[0;34m(f, *a, **k)\u001b[0m\n\u001b[1;32m    185\u001b[0m     \u001b[0;31m# but it's overkill for just that one bit of state.\u001b[0m\u001b[0;34m\u001b[0m\u001b[0;34m\u001b[0m\u001b[0;34m\u001b[0m\u001b[0m\n\u001b[1;32m    186\u001b[0m     \u001b[0;32mdef\u001b[0m \u001b[0mmagic_deco\u001b[0m\u001b[0;34m(\u001b[0m\u001b[0marg\u001b[0m\u001b[0;34m)\u001b[0m\u001b[0;34m:\u001b[0m\u001b[0;34m\u001b[0m\u001b[0;34m\u001b[0m\u001b[0m\n\u001b[0;32m--> 187\u001b[0;31m         \u001b[0mcall\u001b[0m \u001b[0;34m=\u001b[0m \u001b[0;32mlambda\u001b[0m \u001b[0mf\u001b[0m\u001b[0;34m,\u001b[0m \u001b[0;34m*\u001b[0m\u001b[0ma\u001b[0m\u001b[0;34m,\u001b[0m \u001b[0;34m**\u001b[0m\u001b[0mk\u001b[0m\u001b[0;34m:\u001b[0m \u001b[0mf\u001b[0m\u001b[0;34m(\u001b[0m\u001b[0;34m*\u001b[0m\u001b[0ma\u001b[0m\u001b[0;34m,\u001b[0m \u001b[0;34m**\u001b[0m\u001b[0mk\u001b[0m\u001b[0;34m)\u001b[0m\u001b[0;34m\u001b[0m\u001b[0;34m\u001b[0m\u001b[0m\n\u001b[0m\u001b[1;32m    188\u001b[0m \u001b[0;34m\u001b[0m\u001b[0m\n\u001b[1;32m    189\u001b[0m         \u001b[0;32mif\u001b[0m \u001b[0mcallable\u001b[0m\u001b[0;34m(\u001b[0m\u001b[0marg\u001b[0m\u001b[0;34m)\u001b[0m\u001b[0;34m:\u001b[0m\u001b[0;34m\u001b[0m\u001b[0;34m\u001b[0m\u001b[0m\n",
      "\u001b[0;32m/opt/conda/lib/python3.7/site-packages/IPython/core/magics/script.py\u001b[0m in \u001b[0;36mshebang\u001b[0;34m(self, line, cell)\u001b[0m\n\u001b[1;32m    243\u001b[0m             \u001b[0msys\u001b[0m\u001b[0;34m.\u001b[0m\u001b[0mstderr\u001b[0m\u001b[0;34m.\u001b[0m\u001b[0mflush\u001b[0m\u001b[0;34m(\u001b[0m\u001b[0;34m)\u001b[0m\u001b[0;34m\u001b[0m\u001b[0;34m\u001b[0m\u001b[0m\n\u001b[1;32m    244\u001b[0m         \u001b[0;32mif\u001b[0m \u001b[0margs\u001b[0m\u001b[0;34m.\u001b[0m\u001b[0mraise_error\u001b[0m \u001b[0;32mand\u001b[0m \u001b[0mp\u001b[0m\u001b[0;34m.\u001b[0m\u001b[0mreturncode\u001b[0m\u001b[0;34m!=\u001b[0m\u001b[0;36m0\u001b[0m\u001b[0;34m:\u001b[0m\u001b[0;34m\u001b[0m\u001b[0;34m\u001b[0m\u001b[0m\n\u001b[0;32m--> 245\u001b[0;31m             \u001b[0;32mraise\u001b[0m \u001b[0mCalledProcessError\u001b[0m\u001b[0;34m(\u001b[0m\u001b[0mp\u001b[0m\u001b[0;34m.\u001b[0m\u001b[0mreturncode\u001b[0m\u001b[0;34m,\u001b[0m \u001b[0mcell\u001b[0m\u001b[0;34m,\u001b[0m \u001b[0moutput\u001b[0m\u001b[0;34m=\u001b[0m\u001b[0mout\u001b[0m\u001b[0;34m,\u001b[0m \u001b[0mstderr\u001b[0m\u001b[0;34m=\u001b[0m\u001b[0merr\u001b[0m\u001b[0;34m)\u001b[0m\u001b[0;34m\u001b[0m\u001b[0;34m\u001b[0m\u001b[0m\n\u001b[0m\u001b[1;32m    246\u001b[0m \u001b[0;34m\u001b[0m\u001b[0m\n\u001b[1;32m    247\u001b[0m     \u001b[0;32mdef\u001b[0m \u001b[0m_run_script\u001b[0m\u001b[0;34m(\u001b[0m\u001b[0mself\u001b[0m\u001b[0;34m,\u001b[0m \u001b[0mp\u001b[0m\u001b[0;34m,\u001b[0m \u001b[0mcell\u001b[0m\u001b[0;34m,\u001b[0m \u001b[0mto_close\u001b[0m\u001b[0;34m)\u001b[0m\u001b[0;34m:\u001b[0m\u001b[0;34m\u001b[0m\u001b[0;34m\u001b[0m\u001b[0m\n",
      "\u001b[0;31mCalledProcessError\u001b[0m: Command 'b'docker run -p 4000:80 --name my-app node-app:0.1\\n'' returned non-zero exit status 137."
     ]
    }
   ],
   "source": [
    "%%bash\n",
    "docker run -p 4000:80 --name my-app node-app:0.1"
   ]
  },
  {
   "cell_type": "markdown",
   "metadata": {},
   "source": [
    "To test out the server, open a terminal window and type the following command:\n",
    "\n",
    "```bash\n",
    "curl http://localhost:4000\n",
    "```\n",
    "\n",
    "You should see the server respond with `Hello World`"
   ]
  },
  {
   "cell_type": "markdown",
   "metadata": {},
   "source": [
    "The container will run as long as the initial terminal is running. If you want to stop the container, run the following command in the terminal to stop and remove the container:\n",
    "\n",
    "```bash\n",
    "docker stop my-app && docker rm my-app\n",
    "```\n",
    "After a few moments the container will stop. You should notice the cell above will complete execution.\n",
    "\n",
    "#### Running the container in the background\n",
    "If you want to the container to run in the background (not tied to the terminal's session), you need to specify the `-d` flag.\n",
    "Now run the following command to start the container in the background"
   ]
  },
  {
   "cell_type": "markdown",
   "metadata": {},
   "source": [
    "**Exercise**\n",
    "\n",
    "Modify your command above with `-d` flag to run `my-app` in the background."
   ]
  },
  {
   "cell_type": "code",
   "execution_count": 18,
   "metadata": {},
   "outputs": [
    {
     "name": "stdout",
     "output_type": "stream",
     "text": [
      "3e2b328cf3e6dbb67f829956303598dd80b16ca0f3cf7693a1939b70a442b364\n"
     ]
    }
   ],
   "source": [
    "%%bash\n",
    "docker run -d -p 4000:80 --name my-app  node-app:0.1 "
   ]
  },
  {
   "cell_type": "markdown",
   "metadata": {},
   "source": [
    "Your container is now running in the background. You can check the status of your running container using `docker ps`"
   ]
  },
  {
   "cell_type": "code",
   "execution_count": 19,
   "metadata": {},
   "outputs": [
    {
     "name": "stdout",
     "output_type": "stream",
     "text": [
      "CONTAINER ID   IMAGE                          COMMAND                  CREATED          STATUS          PORTS                  NAMES\n",
      "3e2b328cf3e6   node-app:0.1                   \"node app.js\"            6 seconds ago    Up 5 seconds    0.0.0.0:4000->80/tcp   my-app\n",
      "cc9930dc7af4   gcr.io/inverting-proxy/agent   \"/bin/sh -c '/opt/bi…\"   40 minutes ago   Up 38 minutes                          proxy-agent\n"
     ]
    }
   ],
   "source": [
    "!docker ps"
   ]
  },
  {
   "cell_type": "markdown",
   "metadata": {},
   "source": [
    "Notice the container is running in the output of docker ps. You can look at the logs by executing `docker logs [container_id]`. "
   ]
  },
  {
   "cell_type": "code",
   "execution_count": 20,
   "metadata": {},
   "outputs": [
    {
     "name": "stdout",
     "output_type": "stream",
     "text": [
      "Server running at http://0.0.0.0:80/\n"
     ]
    }
   ],
   "source": [
    "# Note, your container id will be different\n",
    "!docker logs 3e2b328cf3e6   "
   ]
  },
  {
   "cell_type": "markdown",
   "metadata": {},
   "source": [
    "You should see \n",
    "```bash\n",
    "Server running at http://0.0.0.0:80/\n",
    "```\n",
    "If you want to follow the log's output as the container is running, use the `-f` option."
   ]
  },
  {
   "cell_type": "markdown",
   "metadata": {},
   "source": [
    "## Modify & Publish\n",
    "\n",
    "Let's modify the application and push it to your Google Cloud Repository (gcr). After that you'll remove all local containers and images to simulate a fresh environment, and then pull and run your containers from gcr. This will demonstrate the portability of Docker containers.\n",
    "\n",
    "### Edit `app.js`\n",
    "Open the file `./src/app.js` with the text editor and replace \"Hello World\" with another string. Then build this new image. "
   ]
  },
  {
   "cell_type": "markdown",
   "metadata": {},
   "source": [
    "**Exercise**\n",
    "\n",
    "After modifying the `app.js` file, use `docker build` to build a new container called `node-app:0.2` from the same docker file. "
   ]
  },
  {
   "cell_type": "code",
   "execution_count": 21,
   "metadata": {},
   "outputs": [
    {
     "name": "stdout",
     "output_type": "stream",
     "text": [
      "Sending build context to Docker daemon  118.3kB\n",
      "Step 1/5 : FROM node:6\n",
      " ---> ab290b853066\n",
      "Step 2/5 : WORKDIR /app\n",
      " ---> Using cache\n",
      " ---> 8944fe56d3aa\n",
      "Step 3/5 : COPY ./src/ /app\n",
      " ---> 3e57523a7c8b\n",
      "Step 4/5 : EXPOSE 80\n",
      " ---> Running in c7f6f8add82f\n",
      "Removing intermediate container c7f6f8add82f\n",
      " ---> 5bc9230a30fd\n",
      "Step 5/5 : CMD [\"node\", \"app.js\"]\n",
      " ---> Running in 022ceaabe843\n",
      "Removing intermediate container 022ceaabe843\n",
      " ---> 3f9b9d2a4916\n",
      "Successfully built 3f9b9d2a4916\n",
      "Successfully tagged node-app:0.2\n"
     ]
    }
   ],
   "source": [
    "%%bash\n",
    "docker build -t node-app:0.2 ./  -f ./dockerfiles/intro.docker"
   ]
  },
  {
   "cell_type": "markdown",
   "metadata": {},
   "source": [
    "Notice in `Step 2` of the output we are using an existing cache layer. From `Step 3` and on, the layers are modified because we made a change in `app.js`.\n",
    "\n",
    "Run another container with the new image version. Notice how we map the host's port 8000 instead of 80. We can't use host port 4000 because it's already in use. "
   ]
  },
  {
   "cell_type": "markdown",
   "metadata": {},
   "source": [
    "**Exercise**\n",
    "\n",
    "Run this new container in the background using a different port and with the name `my-app-2`."
   ]
  },
  {
   "cell_type": "code",
   "execution_count": 23,
   "metadata": {},
   "outputs": [
    {
     "name": "stdout",
     "output_type": "stream",
     "text": [
      "5ab0371cde926b97c434110948a0186f128887d5f7ccb4b308126846a0447610\n"
     ]
    }
   ],
   "source": [
    "%%bash\n",
    "docker run -d -p 8000:80 --name my-app-2 node-app:0.2"
   ]
  },
  {
   "cell_type": "markdown",
   "metadata": {},
   "source": [
    "You can check that both container are running using `docker ps`."
   ]
  },
  {
   "cell_type": "code",
   "execution_count": 24,
   "metadata": {},
   "outputs": [
    {
     "name": "stdout",
     "output_type": "stream",
     "text": [
      "CONTAINER ID   IMAGE                          COMMAND                  CREATED          STATUS          PORTS                  NAMES\n",
      "5ab0371cde92   node-app:0.2                   \"node app.js\"            5 seconds ago    Up 4 seconds    0.0.0.0:8000->80/tcp   my-app-2\n",
      "3e2b328cf3e6   node-app:0.1                   \"node app.js\"            7 minutes ago    Up 7 minutes    0.0.0.0:4000->80/tcp   my-app\n",
      "cc9930dc7af4   gcr.io/inverting-proxy/agent   \"/bin/sh -c '/opt/bi…\"   48 minutes ago   Up 46 minutes                          proxy-agent\n"
     ]
    }
   ],
   "source": [
    "!docker ps"
   ]
  },
  {
   "cell_type": "markdown",
   "metadata": {},
   "source": [
    "And let's test boht containers using `curl` as before:"
   ]
  },
  {
   "cell_type": "code",
   "execution_count": 25,
   "metadata": {},
   "outputs": [
    {
     "name": "stdout",
     "output_type": "stream",
     "text": [
      "Just posting this altered message from gcr\n"
     ]
    }
   ],
   "source": [
    "!curl http://localhost:8000"
   ]
  },
  {
   "cell_type": "code",
   "execution_count": 26,
   "metadata": {},
   "outputs": [
    {
     "name": "stdout",
     "output_type": "stream",
     "text": [
      "Hello Wolrd!\n"
     ]
    }
   ],
   "source": [
    "!curl http://localhost:4000"
   ]
  },
  {
   "cell_type": "markdown",
   "metadata": {},
   "source": [
    "Recall, to stop a container running, you can execute the following command either in a terminal or (because they are running in the background) in a cell in this notebook. "
   ]
  },
  {
   "cell_type": "markdown",
   "metadata": {},
   "source": [
    "### Publish to gcr\n",
    "\n",
    "Now you're going to push your image to the Google Container Registry (gcr). To push images to your private registry hosted by gcr, you need to tag the images with a registry name. The format is `[hostname]/[project-id]/[image]:[tag]`.\n",
    "\n",
    "For gcr:\n",
    "\n",
    "  * `[hostname]`= gcr.io\n",
    "  * `[project-id]`= your project's ID\n",
    "  * `[image]`= your image name\n",
    "  * `[tag]`= any string tag of your choice. If unspecified, it defaults to \"latest\"."
   ]
  },
  {
   "cell_type": "code",
   "execution_count": 27,
   "metadata": {},
   "outputs": [],
   "source": [
    "import os\n",
    "\n",
    "PROJECT_ID = \"qwiklabs-gcp-04-28475851fd68\"  # REPLACE WITH YOUR PROJECT NAME\n",
    "\n",
    "os.environ[\"PROJECT_ID\"] = PROJECT_ID"
   ]
  },
  {
   "cell_type": "markdown",
   "metadata": {},
   "source": [
    "Let's tag `node-app:0.2`."
   ]
  },
  {
   "cell_type": "code",
   "execution_count": 28,
   "metadata": {},
   "outputs": [
    {
     "name": "stdout",
     "output_type": "stream",
     "text": [
      "REPOSITORY                     TAG       IMAGE ID       CREATED          SIZE\n",
      "node-app                       0.2       3f9b9d2a4916   6 minutes ago    884MB\n",
      "node-app                       0.1       81eb2923eadb   18 minutes ago   884MB\n",
      "<none>                         <none>    13fc570556c6   24 minutes ago   884MB\n",
      "hello-world                    latest    feb5d9fea6a5   6 months ago     13.3kB\n",
      "gcr.io/inverting-proxy/agent   <none>    fe507176d0e6   13 months ago    1.73GB\n",
      "node                           6         ab290b853066   2 years ago      884MB\n"
     ]
    }
   ],
   "source": [
    "!docker images"
   ]
  },
  {
   "cell_type": "markdown",
   "metadata": {},
   "source": [
    "**Exercise**\n",
    "\n",
    "Tag the `node-app:0.2` image with a new image name conforming to the naming convention `gcr.io/[project-id]/[image]:[tag]`. Keep the image and tag names the same."
   ]
  },
  {
   "cell_type": "code",
   "execution_count": 29,
   "metadata": {},
   "outputs": [],
   "source": [
    "%%bash\n",
    "docker image tag node-app:0.2 gcr.io/$PROJECT_ID/node-app:0.2"
   ]
  },
  {
   "cell_type": "markdown",
   "metadata": {},
   "source": [
    "Now when we list our docker images we should see this newly tagged repository."
   ]
  },
  {
   "cell_type": "code",
   "execution_count": 30,
   "metadata": {},
   "outputs": [
    {
     "name": "stdout",
     "output_type": "stream",
     "text": [
      "REPOSITORY                                     TAG       IMAGE ID       CREATED          SIZE\n",
      "node-app                                       0.2       3f9b9d2a4916   10 minutes ago   884MB\n",
      "gcr.io/qwiklabs-gcp-04-28475851fd68/node-app   0.2       3f9b9d2a4916   10 minutes ago   884MB\n",
      "node-app                                       0.1       81eb2923eadb   22 minutes ago   884MB\n",
      "<none>                                         <none>    13fc570556c6   28 minutes ago   884MB\n",
      "hello-world                                    latest    feb5d9fea6a5   6 months ago     13.3kB\n",
      "gcr.io/inverting-proxy/agent                   <none>    fe507176d0e6   13 months ago    1.73GB\n",
      "node                                           6         ab290b853066   2 years ago      884MB\n"
     ]
    }
   ],
   "source": [
    "!docker images"
   ]
  },
  {
   "cell_type": "markdown",
   "metadata": {},
   "source": [
    "Next, let's push this image to gcr."
   ]
  },
  {
   "cell_type": "markdown",
   "metadata": {},
   "source": [
    "**Exercise**\n",
    "\n",
    "Push this new image to the gcr."
   ]
  },
  {
   "cell_type": "code",
   "execution_count": 32,
   "metadata": {},
   "outputs": [
    {
     "name": "stdout",
     "output_type": "stream",
     "text": [
      "The push refers to repository [gcr.io/qwiklabs-gcp-04-28475851fd68/node-app]\n",
      "12ebad091129: Preparing\n",
      "40adcfcba6c3: Preparing\n",
      "f39151891503: Preparing\n",
      "f1965d3c206f: Preparing\n",
      "a27518e43e49: Preparing\n",
      "910d7fd9e23e: Preparing\n",
      "4230ff7f2288: Preparing\n",
      "2c719774c1e1: Preparing\n",
      "ec62f19bb3aa: Preparing\n",
      "f94641f1fe1f: Preparing\n",
      "910d7fd9e23e: Waiting\n",
      "4230ff7f2288: Waiting\n",
      "2c719774c1e1: Waiting\n",
      "ec62f19bb3aa: Waiting\n",
      "f94641f1fe1f: Waiting\n",
      "a27518e43e49: Layer already exists\n",
      "f39151891503: Layer already exists\n",
      "f1965d3c206f: Layer already exists\n",
      "2c719774c1e1: Layer already exists\n",
      "4230ff7f2288: Layer already exists\n",
      "910d7fd9e23e: Layer already exists\n",
      "ec62f19bb3aa: Layer already exists\n",
      "f94641f1fe1f: Layer already exists\n",
      "12ebad091129: Pushed\n",
      "40adcfcba6c3: Pushed\n",
      "0.2: digest: sha256:18f1caf49beff64a28a02334c9c4bd1aeaad679c22ca2d85525aea3b8efb55ad size: 2422\n"
     ]
    }
   ],
   "source": [
    "%%bash\n",
    "docker push gcr.io/qwiklabs-gcp-04-28475851fd68/node-app:0.2"
   ]
  },
  {
   "cell_type": "markdown",
   "metadata": {},
   "source": [
    "Check that the image exists in `gcr` by visiting the image registry Cloud Console. You can navigate via the console to `Navigation menu > Container Registry` or visit the url from the cell below:"
   ]
  },
  {
   "cell_type": "code",
   "execution_count": 33,
   "metadata": {},
   "outputs": [
    {
     "name": "stdout",
     "output_type": "stream",
     "text": [
      "http://gcr.io/qwiklabs-gcp-04-28475851fd68/node-app\n"
     ]
    }
   ],
   "source": [
    "%%bash\n",
    "echo \"http://gcr.io/${PROJECT_ID}/node-app\""
   ]
  },
  {
   "cell_type": "markdown",
   "metadata": {},
   "source": [
    "### Test the published gcr image\n",
    "\n",
    "Let's test this image. You could start a new VM, ssh into that VM, and install gcloud. For simplicity, we'll just remove all containers and images to simulate a fresh environment.\n",
    "\n",
    "First, stop and remove all containers using `docker stop` and `docker rm`. **Be careful not to stop the container running this AI Notebook!**."
   ]
  },
  {
   "cell_type": "code",
   "execution_count": 34,
   "metadata": {},
   "outputs": [
    {
     "name": "stdout",
     "output_type": "stream",
     "text": [
      "my-app\n",
      "my-app\n"
     ]
    }
   ],
   "source": [
    "!docker stop my-app && docker rm my-app"
   ]
  },
  {
   "cell_type": "code",
   "execution_count": 35,
   "metadata": {},
   "outputs": [
    {
     "name": "stdout",
     "output_type": "stream",
     "text": [
      "my-app-2\n",
      "my-app-2\n"
     ]
    }
   ],
   "source": [
    "!docker stop my-app-2 && docker rm my-app-2"
   ]
  },
  {
   "cell_type": "markdown",
   "metadata": {},
   "source": [
    "Now remove the docker images you've created above using `docker rmi`."
   ]
  },
  {
   "cell_type": "code",
   "execution_count": 36,
   "metadata": {},
   "outputs": [
    {
     "name": "stdout",
     "output_type": "stream",
     "text": [
      "REPOSITORY                                     TAG       IMAGE ID       CREATED          SIZE\n",
      "gcr.io/qwiklabs-gcp-04-28475851fd68/node-app   0.2       3f9b9d2a4916   14 minutes ago   884MB\n",
      "node-app                                       0.2       3f9b9d2a4916   14 minutes ago   884MB\n",
      "node-app                                       0.1       81eb2923eadb   27 minutes ago   884MB\n",
      "<none>                                         <none>    13fc570556c6   32 minutes ago   884MB\n",
      "hello-world                                    latest    feb5d9fea6a5   6 months ago     13.3kB\n",
      "gcr.io/inverting-proxy/agent                   <none>    fe507176d0e6   13 months ago    1.73GB\n",
      "node                                           6         ab290b853066   2 years ago      884MB\n"
     ]
    }
   ],
   "source": [
    "!docker images"
   ]
  },
  {
   "cell_type": "code",
   "execution_count": 37,
   "metadata": {},
   "outputs": [
    {
     "name": "stdout",
     "output_type": "stream",
     "text": [
      "Untagged: node-app:0.2\n",
      "Untagged: gcr.io/qwiklabs-gcp-04-28475851fd68/node-app:0.2\n",
      "Untagged: gcr.io/qwiklabs-gcp-04-28475851fd68/node-app@sha256:18f1caf49beff64a28a02334c9c4bd1aeaad679c22ca2d85525aea3b8efb55ad\n",
      "Deleted: sha256:3f9b9d2a4916c8ed8647a706dd0a7075d74be29101543df6ce09eb265a718a51\n",
      "Deleted: sha256:5bc9230a30fdfe11a4fb2a4d01b9235fbd1e22ad779e5a50145fcd63beb9be1a\n",
      "Deleted: sha256:3e57523a7c8b77cd14cd188877b7da3487e2e3e4d6878eeb690b0285046a8410\n",
      "Deleted: sha256:00a48ec1c28f6c5967d84936a69a13619ded2fa792f0dd1b406eec06a830bc55\n",
      "Untagged: node-app:0.1\n",
      "Deleted: sha256:81eb2923eadbe91de9f1fab670e1dc9b450da28ee9a3107d48b9c9a66cb89f8b\n",
      "Deleted: sha256:d5ef84935c98896161d22806fc353b729572b7d31eb6a1f585d5f691545c3a10\n",
      "Deleted: sha256:fe5c276c5549fbe5862aa1f4818684dfa6a787287833aabbd443f70af20b89a5\n",
      "Deleted: sha256:91950f8b6a4e12cf2e02d1b7f7da3a11d656577d038a186a4b96618e4cb4f9e3\n",
      "Untagged: node:6\n",
      "Untagged: node@sha256:e133e66ec3bfc98da0440e552f452e5cdf6413319d27a2db3b01ac4b319759b3\n",
      "Untagged: hello-world:latest\n",
      "Untagged: hello-world@sha256:bfea6278a0a267fad2634554f4f0c6f31981eea41c553fdf5a83e95a41d40c38\n",
      "Deleted: sha256:feb5d9fea6a5e9606aa995e879d862b825965ba48de054caab5ef356dc6b3412\n"
     ]
    }
   ],
   "source": [
    "%%bash\n",
    "docker rmi node-app:0.2\n",
    "docker rmi gcr.io/${PROJECT_ID}/node-app:0.2\n",
    "docker rmi node-app:0.1\n",
    "docker rmi node:6 \n",
    "docker rmi -f hello-world:latest"
   ]
  },
  {
   "cell_type": "markdown",
   "metadata": {},
   "source": [
    "Confirm all images are removed with `docker images`."
   ]
  },
  {
   "cell_type": "code",
   "execution_count": 38,
   "metadata": {},
   "outputs": [
    {
     "name": "stdout",
     "output_type": "stream",
     "text": [
      "REPOSITORY                     TAG       IMAGE ID       CREATED          SIZE\n",
      "<none>                         <none>    13fc570556c6   32 minutes ago   884MB\n",
      "gcr.io/inverting-proxy/agent   <none>    fe507176d0e6   13 months ago    1.73GB\n"
     ]
    }
   ],
   "source": [
    "!docker images"
   ]
  },
  {
   "cell_type": "markdown",
   "metadata": {},
   "source": [
    "At this point you should have a pseudo-fresh environment. Now, pull the image and run it."
   ]
  },
  {
   "cell_type": "code",
   "execution_count": 39,
   "metadata": {},
   "outputs": [
    {
     "name": "stdout",
     "output_type": "stream",
     "text": [
      "0.2: Pulling from qwiklabs-gcp-04-28475851fd68/node-app\n",
      "c5e155d5a1d1: Already exists\n",
      "221d80d00ae9: Already exists\n",
      "4250b3117dca: Already exists\n",
      "3b7ca19181b2: Already exists\n",
      "425d7b2a5bcc: Already exists\n",
      "69df12c70287: Already exists\n",
      "ea2f5386a42d: Already exists\n",
      "d421d2b3c5eb: Already exists\n",
      "599ff6aa77dc: Already exists\n",
      "f496de6ce14e: Pulling fs layer\n",
      "f496de6ce14e: Download complete\n",
      "f496de6ce14e: Pull complete\n",
      "Digest: sha256:18f1caf49beff64a28a02334c9c4bd1aeaad679c22ca2d85525aea3b8efb55ad\n",
      "Status: Downloaded newer image for gcr.io/qwiklabs-gcp-04-28475851fd68/node-app:0.2\n",
      "gcr.io/qwiklabs-gcp-04-28475851fd68/node-app:0.2\n",
      "37d7b979c4cc3f255830782d9d39f47824bb903bf0af6ac18bb9a50281a3ad05\n"
     ]
    }
   ],
   "source": [
    "%%bash\n",
    "docker pull gcr.io/${PROJECT_ID}/node-app:0.2\n",
    "docker run -p 4000:80 -d gcr.io/${PROJECT_ID}/node-app:0.2"
   ]
  },
  {
   "cell_type": "markdown",
   "metadata": {},
   "source": [
    "You can check that it's running as expected using before:"
   ]
  },
  {
   "cell_type": "code",
   "execution_count": 40,
   "metadata": {},
   "outputs": [
    {
     "name": "stdout",
     "output_type": "stream",
     "text": [
      "Just posting this altered message from gcr\n"
     ]
    }
   ],
   "source": [
    "!curl http://localhost:4000"
   ]
  },
  {
   "cell_type": "markdown",
   "metadata": {},
   "source": [
    "Copyright 2020 Google LLC Licensed under the Apache License, Version 2.0 (the \"License\"); you may not use this file except in compliance with the License. You may obtain a copy of the License at https://www.apache.org/licenses/LICENSE-2.0 Unless required by applicable law or agreed to in writing, software distributed under the License is distributed on an \"AS IS\" BASIS, WITHOUT WARRANTIES OR CONDITIONS OF ANY KIND, either express or implied. See the License for the specific language governing permissions and limitations under the License."
   ]
  }
 ],
 "metadata": {
  "environment": {
   "kernel": "python3",
   "name": "tf2-gpu.2-6.m91",
   "type": "gcloud",
   "uri": "gcr.io/deeplearning-platform-release/tf2-gpu.2-6:m91"
  },
  "kernelspec": {
   "display_name": "Python 3",
   "language": "python",
   "name": "python3"
  },
  "language_info": {
   "codemirror_mode": {
    "name": "ipython",
    "version": 3
   },
   "file_extension": ".py",
   "mimetype": "text/x-python",
   "name": "python",
   "nbconvert_exporter": "python",
   "pygments_lexer": "ipython3",
   "version": "3.7.12"
  }
 },
 "nbformat": 4,
 "nbformat_minor": 4
}
